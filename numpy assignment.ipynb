{
 "cells": [
  {
   "cell_type": "markdown",
   "metadata": {},
   "source": [
    "# Numpy assignment"
   ]
  },
  {
   "cell_type": "markdown",
   "metadata": {},
   "source": [
    "**Problem Statement-1**\n",
    "**Write a function so that the columns of the output matrix are powers of the input\n",
    "vector.\n",
    "The order of the powers is determined by the increasing boolean argument. Specifically, when\n",
    "increasing is False, the i-th output column is the input vector raised element-wise to the power\n",
    "of N - i - 1.**\n",
    "\n",
    "**HINT: Such a matrix with a geometric progression in each row is named for Alexandre-\n",
    "Theophile Vandermonde.**"
   ]
  },
  {
   "cell_type": "markdown",
   "metadata": {},
   "source": [
    "### This problem statement is already given in assignment-3 \n",
    "**so iam assuming here i should create vander matrix with numpy package**"
   ]
  },
  {
   "cell_type": "markdown",
   "metadata": {},
   "source": [
    "## Without numpy package"
   ]
  },
  {
   "cell_type": "code",
   "execution_count": 1,
   "metadata": {},
   "outputs": [
    {
     "name": "stdout",
     "output_type": "stream",
     "text": [
      "[1, 1, 1, 1]\n",
      "[8, 4, 2, 1]\n",
      "[27, 9, 3, 1]\n",
      "[125, 25, 5, 1]\n",
      "[1, 1, 1, 1, 1]\n",
      "[16, 8, 4, 2, 1]\n",
      "[81, 27, 9, 3, 1]\n",
      "[256, 64, 16, 4, 1]\n",
      "[1, 1, 1, 1, 1]\n",
      "[1, 2, 4, 8, 16]\n",
      "[1, 3, 9, 27, 81]\n",
      "[1, 4, 16, 64, 256]\n",
      "[1, 6, 36, 216, 1296]\n",
      "[1, 1, 1]\n",
      "[1, 3, 9]\n",
      "[1, 5, 25]\n",
      "[1, 7, 49]\n"
     ]
    }
   ],
   "source": [
    "def vander(x,*N_opt,increasing=False):\n",
    "    if N_opt==():\n",
    "        N=len(x)\n",
    "    else:\n",
    "        N=N_opt[0]\n",
    "    l=[[j**(N-i-1) for i in range(N)] for j in x]\n",
    "    for i in l:\n",
    "        if increasing!=True:\n",
    "            print(i)\n",
    "        else:\n",
    "            i.reverse()\n",
    "            print(i)\n",
    "vander([1,2,3,5])\n",
    "vander([1,2,3,4],5)\n",
    "vander([1,2,3,4,6],increasing=True)\n",
    "vander([1,3,5,7],3,increasing=True)"
   ]
  },
  {
   "cell_type": "markdown",
   "metadata": {},
   "source": [
    "## With Numpy Package"
   ]
  },
  {
   "cell_type": "code",
   "execution_count": 2,
   "metadata": {},
   "outputs": [
    {
     "name": "stdout",
     "output_type": "stream",
     "text": [
      "[[  1   1   1   1]\n",
      " [  8   4   2   1]\n",
      " [ 27   9   3   1]\n",
      " [125  25   5   1]]\n",
      "[[  1   1   1   1   1]\n",
      " [ 16   8   4   2   1]\n",
      " [ 81  27   9   3   1]\n",
      " [256  64  16   4   1]]\n",
      "[[   1    1    1    1    1]\n",
      " [   1    2    4    8   16]\n",
      " [   1    3    9   27   81]\n",
      " [   1    4   16   64  256]\n",
      " [   1    6   36  216 1296]]\n",
      "[[ 1  1  1]\n",
      " [ 1  3  9]\n",
      " [ 1  5 25]\n",
      " [ 1  7 49]]\n"
     ]
    }
   ],
   "source": [
    "import numpy as np\n",
    "print(np.vander([1,2,3,5]))\n",
    "print(np.vander([1,2,3,4],5))\n",
    "print(np.vander([1,2,3,4,6],increasing=True))\n",
    "print(np.vander([1,3,5,7],3,increasing=True))"
   ]
  },
  {
   "cell_type": "markdown",
   "metadata": {},
   "source": [
    "**Problem Statement 2:\n",
    "Given a sequence of n values x1, x2, ..., xn and a window size k>0, the k-th moving average of\n",
    "the given sequence is defined as follows:\n",
    "The moving average sequence has n-k+1 elements as shown below.\n",
    "The moving averages with k=4 of a ten-value sequence (n=10) is shown below**\n",
    "\n",
    "**i 1 2 3 4 5 6 7 8 9 10**\n",
    "\n",
    "===== == == == == == == == == == ==\n",
    "\n",
    "**Input 10 20 30 40 50 60 70 80 90 100**\n",
    "\n",
    "**y1 25 = (10+20+30+40)/4**\n",
    "\n",
    "**y2 35 = (20+30+40+50)/4**\n",
    "\n",
    "**y3 45 = (30+40+50+60)/4**\n",
    "\n",
    "**y4 55 = (40+50+60+70)/4**\n",
    "\n",
    "**y5 65 = (50+60+70+80)/4**\n",
    "\n",
    "**y6 75 = (60+70+80+90)/4**\n",
    "\n",
    "**y7 85 = (70+80+90+100)/4**\n",
    "\n",
    "**Thus, the moving average sequence has n-k+1=10-4+1=7 values.**\n",
    "\n",
    "**Question: Write a function to find moving average in an array over a window:\n",
    "Test it over [3, 5, 7, 2, 8, 10, 11, 65, 72, 81, 99, 100, 150] and window of 3.**"
   ]
  },
  {
   "cell_type": "code",
   "execution_count": 3,
   "metadata": {},
   "outputs": [
    {
     "name": "stdout",
     "output_type": "stream",
     "text": [
      "[25. 35. 45. 55. 65. 75. 85.]\n",
      "[  5.           4.66666667   5.66666667   6.66666667   9.66666667\n",
      "  28.66666667  49.33333333  72.66666667  84.          93.33333333\n",
      " 116.33333333]\n"
     ]
    }
   ],
   "source": [
    "def moving_average(sequence,window):\n",
    "    a=np.array(sequence)\n",
    "    c=np.cumsum(a,dtype=float)\n",
    "    c[window:]=c[window:]-c[:-window]\n",
    "    return c[window-1:]/window\n",
    "print(moving_average(np.arange(10,101,10),4))\n",
    "print(moving_average([3, 5, 7, 2, 8, 10, 11, 65, 72, 81, 99, 100, 150],3))"
   ]
  }
 ],
 "metadata": {
  "kernelspec": {
   "display_name": "Python 3",
   "language": "python",
   "name": "python3"
  },
  "language_info": {
   "codemirror_mode": {
    "name": "ipython",
    "version": 3
   },
   "file_extension": ".py",
   "mimetype": "text/x-python",
   "name": "python",
   "nbconvert_exporter": "python",
   "pygments_lexer": "ipython3",
   "version": "3.7.4"
  }
 },
 "nbformat": 4,
 "nbformat_minor": 2
}
