{
 "cells": [
  {
   "cell_type": "markdown",
   "metadata": {},
   "source": [
    "# Assignment-3"
   ]
  },
  {
   "cell_type": "markdown",
   "metadata": {},
   "source": [
    "## Task-1"
   ]
  },
  {
   "cell_type": "markdown",
   "metadata": {},
   "source": [
    "**1) Write a function to compute 5/0 and use try/except to catch the exceptions.**"
   ]
  },
  {
   "cell_type": "code",
   "execution_count": 1,
   "metadata": {},
   "outputs": [
    {
     "name": "stdout",
     "output_type": "stream",
     "text": [
      "5\n",
      "division by zero\n",
      "Finally Executed\n"
     ]
    }
   ],
   "source": [
    "def compute(val):\n",
    "    try:\n",
    "        ex=val/0\n",
    "    except Exception as e:\n",
    "        print(e)\n",
    "    finally:\n",
    "        print(\"Finally Executed\")\n",
    "val=int(input())\n",
    "compute(val)\n",
    "        "
   ]
  },
  {
   "cell_type": "markdown",
   "metadata": {},
   "source": [
    "**2) Implement a Python program to generate all sentences where subject is in [\"Americans\",\n",
    "\"Indians\"] and verb is in [\"Play\", \"watch\"] and the object is in [\"Baseball\",\"cricket\"].**\n",
    "\n",
    "**Hint: Subject,Verb and Object should be declared in the program as shown below.**\n",
    "\n",
    "**subjects=[\"Americans \",\"Indians\"]\n",
    "verbs=[\"play\",\"watch\"]\n",
    "objects=[\"Baseball\",\"Cricket\"]**\n",
    "\n",
    "**Output should come as below:**\n",
    "\n",
    "**Americans play Baseball.\n",
    "   Americans play Cricket.\n",
    "   Americans watch Baseball.\n",
    "   Americans watch Cricket.\n",
    "   Indians play Baseball.\n",
    "   Indians play Cricket.\n",
    "   Indians watch Baseball.\n",
    "   Indians watch Cricket.**"
   ]
  },
  {
   "cell_type": "code",
   "execution_count": 2,
   "metadata": {},
   "outputs": [
    {
     "name": "stdout",
     "output_type": "stream",
     "text": [
      "Americans play Baseball.\n",
      "Americans play Cricket.\n",
      "Americans watch Baseball.\n",
      "Americans watch Cricket.\n",
      "Indians play Baseball.\n",
      "Indians play Cricket.\n",
      "Indians watch Baseball.\n",
      "Indians watch Cricket.\n"
     ]
    }
   ],
   "source": [
    "subjects=[\"Americans\",\"Indians\"]\n",
    "verbs=[\"play\",\"watch\"]\n",
    "objects=[\"Baseball\",\"Cricket\"]\n",
    "l=[i+\" \"+j+\" \"+k+\".\" for i in subjects for j in verbs for k in objects]\n",
    "print('\\n'.join(l))"
   ]
  },
  {
   "cell_type": "markdown",
   "metadata": {},
   "source": [
    "## Task-2"
   ]
  },
  {
   "cell_type": "markdown",
   "metadata": {},
   "source": [
    "**1) Write a function so that the columns of the output matrix are powers of the input vector.\n",
    "The order of the powers is determined by the increasing boolean argument. Specifically, when\n",
    "increasing is False, the i-th output column is the input vector raised element-wise to the power\n",
    "of N - i - 1.\n",
    "HINT: Such a matrix with a geometric progression in each row is named for AlexandreTheophile Vandermonde.**"
   ]
  },
  {
   "cell_type": "code",
   "execution_count": 3,
   "metadata": {},
   "outputs": [
    {
     "name": "stdout",
     "output_type": "stream",
     "text": [
      "[1, 1, 1, 1]\n",
      "[8, 4, 2, 1]\n",
      "[27, 9, 3, 1]\n",
      "[125, 25, 5, 1]\n",
      "[1, 1, 1, 1, 1]\n",
      "[16, 8, 4, 2, 1]\n",
      "[81, 27, 9, 3, 1]\n",
      "[256, 64, 16, 4, 1]\n",
      "[1, 1, 1, 1, 1]\n",
      "[1, 2, 4, 8, 16]\n",
      "[1, 3, 9, 27, 81]\n",
      "[1, 4, 16, 64, 256]\n",
      "[1, 6, 36, 216, 1296]\n",
      "[1, 1, 1]\n",
      "[1, 3, 9]\n",
      "[1, 5, 25]\n",
      "[1, 7, 49]\n"
     ]
    }
   ],
   "source": [
    "def vander(x,*N_opt,increasing=False):\n",
    "    if N_opt==():\n",
    "        N=len(x)\n",
    "    else:\n",
    "        N=N_opt[0]\n",
    "    l=[[j**(N-i-1) for i in range(N)] for j in x]\n",
    "    for i in l:\n",
    "        if increasing!=True:\n",
    "            print(i)\n",
    "        else:\n",
    "            i.reverse()\n",
    "            print(i)\n",
    "vander([1,2,3,5])\n",
    "vander([1,2,3,4],5)\n",
    "vander([1,2,3,4,6],increasing=True)\n",
    "vander([1,3,5,7],3,increasing=True)"
   ]
  }
 ],
 "metadata": {
  "kernelspec": {
   "display_name": "Python 3",
   "language": "python",
   "name": "python3"
  },
  "language_info": {
   "codemirror_mode": {
    "name": "ipython",
    "version": 3
   },
   "file_extension": ".py",
   "mimetype": "text/x-python",
   "name": "python",
   "nbconvert_exporter": "python",
   "pygments_lexer": "ipython3",
   "version": "3.7.4"
  }
 },
 "nbformat": 4,
 "nbformat_minor": 2
}
