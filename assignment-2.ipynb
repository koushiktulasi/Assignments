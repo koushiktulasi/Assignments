{
 "cells": [
  {
   "cell_type": "markdown",
   "metadata": {},
   "source": [
    "# Assignment-2\n",
    "\n",
    "## Task 1:"
   ]
  },
  {
   "cell_type": "markdown",
   "metadata": {},
   "source": [
    "\n",
    "**1.1) Write a Python Program to implement your own myreduce() function which works exactly like\n",
    "Python's built-in function reduce()**"
   ]
  },
  {
   "cell_type": "code",
   "execution_count": 1,
   "metadata": {},
   "outputs": [
    {
     "name": "stdout",
     "output_type": "stream",
     "text": [
      "5\n",
      "15\n"
     ]
    }
   ],
   "source": [
    "def maximum(x,y):\n",
    "    if x>y:\n",
    "        return x\n",
    "    else:\n",
    "        return y\n",
    "def add(x,y):\n",
    "    return x+y\n",
    "def myreduce(func,seq):\n",
    "    result=func(seq[0],seq[1])\n",
    "    for i in range(2,len(seq)):\n",
    "        result=func(result,seq[i])\n",
    "    return result\n",
    "seq=[1,2,3,4,5]\n",
    "print(myreduce(maximum,seq))\n",
    "print(myreduce(add,seq))\n",
    "        \n",
    "    "
   ]
  },
  {
   "cell_type": "markdown",
   "metadata": {},
   "source": [
    "**1.2) Write a Python program to implement your own myfilter() function which works exactly like\n",
    "       Python's built-in function filter()**\n"
   ]
  },
  {
   "cell_type": "code",
   "execution_count": 2,
   "metadata": {},
   "outputs": [
    {
     "name": "stdout",
     "output_type": "stream",
     "text": [
      "[2, 4, 6, 8]\n",
      "e\n",
      "e\n"
     ]
    },
    {
     "data": {
      "text/plain": [
       "['e', 'e']"
      ]
     },
     "execution_count": 2,
     "metadata": {},
     "output_type": "execute_result"
    }
   ],
   "source": [
    "def even_check(num):\n",
    "    if num%2 ==0:\n",
    "        return True\n",
    "def vowel(variable): \n",
    "    letters = ['a', 'e', 'i', 'o', 'u'] \n",
    "    if (variable in letters): \n",
    "        return True\n",
    "    else: \n",
    "        return False    \n",
    "def myfilter(func,seq):\n",
    "    for i in seq:\n",
    "        if func(i):\n",
    "            yield i\n",
    "lst =[1,2,3,4,5,6,7,8]\n",
    "sequence = ['g', 'e', 'e', 'j', 'k', 's', 'p', 'r'] \n",
    "print(list(myfilter(even_check,lst)))\n",
    "filtered=myfilter(vowel,sequence)\n",
    "for i in filtered:\n",
    "    print(i)\n",
    "list(myfilter(vowel,sequence))    "
   ]
  },
  {
   "cell_type": "markdown",
   "metadata": {},
   "source": [
    "**2) Implement List comprehensions to produce the following lists.\n",
    "Write List comprehensions to produce the following Lists**\n",
    "\n",
    "['A', 'C', 'A', 'D', 'G', 'I', ’L’, ‘ D’]\n",
    "\n",
    "['x', 'xx', 'xxx', 'xxxx', 'y', 'yy', 'yyy', 'yyyy', 'z', 'zz', 'zzz', 'zzzz']\n",
    "\n",
    "['x', 'y', 'z', 'xx', 'yy', 'zz', 'xx', 'yy', 'zz', 'xxxx', 'yyyy', 'zzzz']\n",
    "\n",
    "[[2], [3], [4], [3], [4], [5], [4], [5], [6]]\n",
    "\n",
    "[[2, 3, 4, 5], [3, 4, 5, 6], [4, 5, 6, 7], [5, 6, 7, 8]]\n",
    "\n",
    "[(1, 1), (2, 1), (3, 1), (1, 2), (2, 2), (3, 2), (1, 3), (2, 3), (3, 3)]\n"
   ]
  },
  {
   "cell_type": "code",
   "execution_count": 3,
   "metadata": {},
   "outputs": [
    {
     "name": "stdout",
     "output_type": "stream",
     "text": [
      "['A', 'C', 'A', 'D', 'G', 'I', 'L', 'D']\n",
      "['x', 'xx', 'xxx', 'xxxx', 'y', 'yy', 'yyy', 'yyyy', 'z', 'zz', 'zzz', 'zzzz']\n",
      "['x', 'y', 'z', 'xx', 'yy', 'zz', 'xx', 'yy', 'zz', 'xxxx', 'yyyy', 'zzzz']\n",
      "[[2], [3], [4], [3], [4], [5], [4], [5], [6]]\n",
      "[[2, 3, 4, 5], [3, 4, 5, 6], [4, 5, 6, 7], [5, 6, 7, 8]]\n",
      "[(1, 1), (2, 1), (3, 1), (1, 2), (2, 2), (3, 2), (1, 3), (2, 3), (3, 3)]\n"
     ]
    }
   ],
   "source": [
    "list1=[i for i in 'ACADGILD']\n",
    "list2=[i*s for s in 'xyz' for i in range(1,5)]\n",
    "list3=[i*s  for i in [1,2,2,4] for s in 'xyz' ]\n",
    "list4=[[j] for i in range(2,5) for j in range(i,i+3)]\n",
    "list5=[[i for i in range(j,j+4) ]for j in range(2,6)]\n",
    "list6=[(i,j) for j in range(1,4) for i in range(1,4)]\n",
    "print(list1,list2,list3,list4,list5,list6,sep='\\n')"
   ]
  },
  {
   "cell_type": "markdown",
   "metadata": {},
   "source": [
    "# Task 2:"
   ]
  },
  {
   "cell_type": "markdown",
   "metadata": {},
   "source": [
    "**1.1) Write a Python Program(with class concepts) to find the area of the triangle using the below\n",
    "formula.\n",
    "area = (s*(s-a)*(s-b)*(s-c)) ** 0.5\n",
    "Function to take the length of the sides of triangle from user should be defined in the parent\n",
    "class and function to calculate the area should be defined in subclass.**\n"
   ]
  },
  {
   "cell_type": "code",
   "execution_count": 4,
   "metadata": {},
   "outputs": [
    {
     "name": "stdout",
     "output_type": "stream",
     "text": [
      "10,15,20\n",
      "Area of triangle : 2636.71875\n"
     ]
    }
   ],
   "source": [
    "class Parent:\n",
    "        def __init__(self,a,b,c):\n",
    "            self.a=a\n",
    "            self.b=b\n",
    "            self.c=c\n",
    "class sub(Parent):\n",
    "    def __init__(self,*args):\n",
    "        super(sub,self).__init__(*args)\n",
    "    def area(self):\n",
    "        s=(a+b+c)/2\n",
    "        area=s*(s-a)*(s-b)*(s-c)*0.5\n",
    "        print(\"Area of triangle :\",area)\n",
    "a,b,c=map(int,input().split(','))\n",
    "obj=sub(a,b,c)\n",
    "obj.area()\n",
    "\n"
   ]
  },
  {
   "cell_type": "markdown",
   "metadata": {},
   "source": [
    "**1.2) Write a function filter_long_words() that takes a list of words and an integer n and returns the list\n",
    "of words that are longer than n.**\n"
   ]
  },
  {
   "cell_type": "code",
   "execution_count": 5,
   "metadata": {},
   "outputs": [
    {
     "name": "stdout",
     "output_type": "stream",
     "text": [
      "['Koushik', 'Saitejaaa', 'TejoPavan']\n"
     ]
    }
   ],
   "source": [
    "def filter_long_words(lst,n):\n",
    "    result=[i for i in lst if len(i)>n]\n",
    "    return result\n",
    "l=[\"Koushik\",\"Anil\",\"Saitejaaa\",\"TejoPavan\",\"Jay\",\"Dogs\"]    \n",
    "result=filter_long_words(l,6)\n",
    "print(result)"
   ]
  },
  {
   "cell_type": "markdown",
   "metadata": {},
   "source": [
    "**2.1) Write a Python program using function concept that maps list of words into a list of integers\n",
    "representing the lengths of the corresponding words.\n",
    "Hint: If a list [ ab,cde,erty] is passed on to the python function output should come as [2,3,4]\n",
    "Here 2,3 and 4 are the lengths of the words in the list**"
   ]
  },
  {
   "cell_type": "code",
   "execution_count": 6,
   "metadata": {},
   "outputs": [
    {
     "data": {
      "text/plain": [
       "[2, 3, 4]"
      ]
     },
     "execution_count": 6,
     "metadata": {},
     "output_type": "execute_result"
    }
   ],
   "source": [
    "l= [ 'ab','cde','erty']  \n",
    "list(map(len,l))"
   ]
  },
  {
   "cell_type": "markdown",
   "metadata": {},
   "source": [
    "## or"
   ]
  },
  {
   "cell_type": "code",
   "execution_count": 7,
   "metadata": {},
   "outputs": [
    {
     "data": {
      "text/plain": [
       "[2, 3, 4]"
      ]
     },
     "execution_count": 7,
     "metadata": {},
     "output_type": "execute_result"
    }
   ],
   "source": [
    "def map_func(lst):\n",
    "    result=[len(i) for i in lst ]\n",
    "    return result\n",
    "l= [ 'ab','cde','erty']  \n",
    "result=map_func(l)\n",
    "result"
   ]
  },
  {
   "cell_type": "markdown",
   "metadata": {},
   "source": [
    "**2.2) Write a Python function which takes a character (i.e. a string of length 1) and returns True if it is\n",
    "a vowel, False otherwise.**"
   ]
  },
  {
   "cell_type": "code",
   "execution_count": 8,
   "metadata": {},
   "outputs": [
    {
     "name": "stdout",
     "output_type": "stream",
     "text": [
      "False\n",
      "True\n"
     ]
    }
   ],
   "source": [
    "def vowel(char):\n",
    "    char=char.lower()\n",
    "    return char in 'aeiou'\n",
    "print(vowel('l'))\n",
    "print(vowel('a'))"
   ]
  }
 ],
 "metadata": {
  "kernelspec": {
   "display_name": "Python 3",
   "language": "python",
   "name": "python3"
  },
  "language_info": {
   "codemirror_mode": {
    "name": "ipython",
    "version": 3
   },
   "file_extension": ".py",
   "mimetype": "text/x-python",
   "name": "python",
   "nbconvert_exporter": "python",
   "pygments_lexer": "ipython3",
   "version": "3.7.4"
  }
 },
 "nbformat": 4,
 "nbformat_minor": 2
}
